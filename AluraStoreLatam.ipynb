{
  "nbformat": 4,
  "nbformat_minor": 0,
  "metadata": {
    "colab": {
      "provenance": [],
      "include_colab_link": true
    },
    "kernelspec": {
      "name": "python3",
      "display_name": "Python 3"
    },
    "language_info": {
      "name": "python"
    }
  },
  "cells": [
    {
      "cell_type": "markdown",
      "metadata": {
        "id": "view-in-github",
        "colab_type": "text"
      },
      "source": [
        "<a href=\"https://colab.research.google.com/github/JuanMSarmientoU/alura-desafo-amigo-secreto/blob/main/AluraStoreLatam.ipynb\" target=\"_parent\"><img src=\"https://colab.research.google.com/assets/colab-badge.svg\" alt=\"Open In Colab\"/></a>"
      ]
    },
    {
      "cell_type": "markdown",
      "source": [
        "### Importación de datos\n",
        "\n"
      ],
      "metadata": {
        "id": "RhEdWd9YUR6H"
      }
    },
    {
      "cell_type": "code",
      "execution_count": 2,
      "metadata": {
        "colab": {
          "base_uri": "https://localhost:8080/",
          "height": 380
        },
        "id": "T3EvaeQ_INIL",
        "outputId": "dfc3a7a7-edc8-477a-c827-622e8c47f245"
      },
      "outputs": [
        {
          "output_type": "execute_result",
          "data": {
            "text/plain": [
              "            Producto Categoría del Producto    Precio  Costo de envío  \\\n",
              "0  Asistente virtual           Electrónicos  164300.0          6900.0   \n",
              "1    Mesa de comedor                Muebles  192300.0          8400.0   \n",
              "2      Juego de mesa               Juguetes  209600.0         15900.0   \n",
              "3         Microondas      Electrodomésticos  757500.0         41000.0   \n",
              "4   Silla de oficina                Muebles  335200.0         20200.0   \n",
              "\n",
              "  Fecha de Compra         Vendedor Lugar de Compra  Calificación  \\\n",
              "0      16/01/2021      Pedro Gomez          Bogotá             4   \n",
              "1      18/05/2022  Beatriz Morales        Medellín             1   \n",
              "2      15/03/2021   Juan Fernandez       Cartagena             1   \n",
              "3      03/05/2022   Juan Fernandez            Cali             4   \n",
              "4      07/11/2020    Maria Alfonso        Medellín             5   \n",
              "\n",
              "       Método de pago  Cantidad de cuotas       lat       lon  \n",
              "0  Tarjeta de crédito                   8   4.60971 -74.08175  \n",
              "1  Tarjeta de crédito                   4   6.25184 -75.56359  \n",
              "2  Tarjeta de crédito                   1  10.39972 -75.51444  \n",
              "3               Nequi                   1   3.43722 -76.52250  \n",
              "4               Nequi                   1   6.25184 -75.56359  "
            ],
            "text/html": [
              "\n",
              "  <div id=\"df-3704f346-c52f-4752-af18-c78458c30e9f\" class=\"colab-df-container\">\n",
              "    <div>\n",
              "<style scoped>\n",
              "    .dataframe tbody tr th:only-of-type {\n",
              "        vertical-align: middle;\n",
              "    }\n",
              "\n",
              "    .dataframe tbody tr th {\n",
              "        vertical-align: top;\n",
              "    }\n",
              "\n",
              "    .dataframe thead th {\n",
              "        text-align: right;\n",
              "    }\n",
              "</style>\n",
              "<table border=\"1\" class=\"dataframe\">\n",
              "  <thead>\n",
              "    <tr style=\"text-align: right;\">\n",
              "      <th></th>\n",
              "      <th>Producto</th>\n",
              "      <th>Categoría del Producto</th>\n",
              "      <th>Precio</th>\n",
              "      <th>Costo de envío</th>\n",
              "      <th>Fecha de Compra</th>\n",
              "      <th>Vendedor</th>\n",
              "      <th>Lugar de Compra</th>\n",
              "      <th>Calificación</th>\n",
              "      <th>Método de pago</th>\n",
              "      <th>Cantidad de cuotas</th>\n",
              "      <th>lat</th>\n",
              "      <th>lon</th>\n",
              "    </tr>\n",
              "  </thead>\n",
              "  <tbody>\n",
              "    <tr>\n",
              "      <th>0</th>\n",
              "      <td>Asistente virtual</td>\n",
              "      <td>Electrónicos</td>\n",
              "      <td>164300.0</td>\n",
              "      <td>6900.0</td>\n",
              "      <td>16/01/2021</td>\n",
              "      <td>Pedro Gomez</td>\n",
              "      <td>Bogotá</td>\n",
              "      <td>4</td>\n",
              "      <td>Tarjeta de crédito</td>\n",
              "      <td>8</td>\n",
              "      <td>4.60971</td>\n",
              "      <td>-74.08175</td>\n",
              "    </tr>\n",
              "    <tr>\n",
              "      <th>1</th>\n",
              "      <td>Mesa de comedor</td>\n",
              "      <td>Muebles</td>\n",
              "      <td>192300.0</td>\n",
              "      <td>8400.0</td>\n",
              "      <td>18/05/2022</td>\n",
              "      <td>Beatriz Morales</td>\n",
              "      <td>Medellín</td>\n",
              "      <td>1</td>\n",
              "      <td>Tarjeta de crédito</td>\n",
              "      <td>4</td>\n",
              "      <td>6.25184</td>\n",
              "      <td>-75.56359</td>\n",
              "    </tr>\n",
              "    <tr>\n",
              "      <th>2</th>\n",
              "      <td>Juego de mesa</td>\n",
              "      <td>Juguetes</td>\n",
              "      <td>209600.0</td>\n",
              "      <td>15900.0</td>\n",
              "      <td>15/03/2021</td>\n",
              "      <td>Juan Fernandez</td>\n",
              "      <td>Cartagena</td>\n",
              "      <td>1</td>\n",
              "      <td>Tarjeta de crédito</td>\n",
              "      <td>1</td>\n",
              "      <td>10.39972</td>\n",
              "      <td>-75.51444</td>\n",
              "    </tr>\n",
              "    <tr>\n",
              "      <th>3</th>\n",
              "      <td>Microondas</td>\n",
              "      <td>Electrodomésticos</td>\n",
              "      <td>757500.0</td>\n",
              "      <td>41000.0</td>\n",
              "      <td>03/05/2022</td>\n",
              "      <td>Juan Fernandez</td>\n",
              "      <td>Cali</td>\n",
              "      <td>4</td>\n",
              "      <td>Nequi</td>\n",
              "      <td>1</td>\n",
              "      <td>3.43722</td>\n",
              "      <td>-76.52250</td>\n",
              "    </tr>\n",
              "    <tr>\n",
              "      <th>4</th>\n",
              "      <td>Silla de oficina</td>\n",
              "      <td>Muebles</td>\n",
              "      <td>335200.0</td>\n",
              "      <td>20200.0</td>\n",
              "      <td>07/11/2020</td>\n",
              "      <td>Maria Alfonso</td>\n",
              "      <td>Medellín</td>\n",
              "      <td>5</td>\n",
              "      <td>Nequi</td>\n",
              "      <td>1</td>\n",
              "      <td>6.25184</td>\n",
              "      <td>-75.56359</td>\n",
              "    </tr>\n",
              "  </tbody>\n",
              "</table>\n",
              "</div>\n",
              "    <div class=\"colab-df-buttons\">\n",
              "\n",
              "  <div class=\"colab-df-container\">\n",
              "    <button class=\"colab-df-convert\" onclick=\"convertToInteractive('df-3704f346-c52f-4752-af18-c78458c30e9f')\"\n",
              "            title=\"Convert this dataframe to an interactive table.\"\n",
              "            style=\"display:none;\">\n",
              "\n",
              "  <svg xmlns=\"http://www.w3.org/2000/svg\" height=\"24px\" viewBox=\"0 -960 960 960\">\n",
              "    <path d=\"M120-120v-720h720v720H120Zm60-500h600v-160H180v160Zm220 220h160v-160H400v160Zm0 220h160v-160H400v160ZM180-400h160v-160H180v160Zm440 0h160v-160H620v160ZM180-180h160v-160H180v160Zm440 0h160v-160H620v160Z\"/>\n",
              "  </svg>\n",
              "    </button>\n",
              "\n",
              "  <style>\n",
              "    .colab-df-container {\n",
              "      display:flex;\n",
              "      gap: 12px;\n",
              "    }\n",
              "\n",
              "    .colab-df-convert {\n",
              "      background-color: #E8F0FE;\n",
              "      border: none;\n",
              "      border-radius: 50%;\n",
              "      cursor: pointer;\n",
              "      display: none;\n",
              "      fill: #1967D2;\n",
              "      height: 32px;\n",
              "      padding: 0 0 0 0;\n",
              "      width: 32px;\n",
              "    }\n",
              "\n",
              "    .colab-df-convert:hover {\n",
              "      background-color: #E2EBFA;\n",
              "      box-shadow: 0px 1px 2px rgba(60, 64, 67, 0.3), 0px 1px 3px 1px rgba(60, 64, 67, 0.15);\n",
              "      fill: #174EA6;\n",
              "    }\n",
              "\n",
              "    .colab-df-buttons div {\n",
              "      margin-bottom: 4px;\n",
              "    }\n",
              "\n",
              "    [theme=dark] .colab-df-convert {\n",
              "      background-color: #3B4455;\n",
              "      fill: #D2E3FC;\n",
              "    }\n",
              "\n",
              "    [theme=dark] .colab-df-convert:hover {\n",
              "      background-color: #434B5C;\n",
              "      box-shadow: 0px 1px 3px 1px rgba(0, 0, 0, 0.15);\n",
              "      filter: drop-shadow(0px 1px 2px rgba(0, 0, 0, 0.3));\n",
              "      fill: #FFFFFF;\n",
              "    }\n",
              "  </style>\n",
              "\n",
              "    <script>\n",
              "      const buttonEl =\n",
              "        document.querySelector('#df-3704f346-c52f-4752-af18-c78458c30e9f button.colab-df-convert');\n",
              "      buttonEl.style.display =\n",
              "        google.colab.kernel.accessAllowed ? 'block' : 'none';\n",
              "\n",
              "      async function convertToInteractive(key) {\n",
              "        const element = document.querySelector('#df-3704f346-c52f-4752-af18-c78458c30e9f');\n",
              "        const dataTable =\n",
              "          await google.colab.kernel.invokeFunction('convertToInteractive',\n",
              "                                                    [key], {});\n",
              "        if (!dataTable) return;\n",
              "\n",
              "        const docLinkHtml = 'Like what you see? Visit the ' +\n",
              "          '<a target=\"_blank\" href=https://colab.research.google.com/notebooks/data_table.ipynb>data table notebook</a>'\n",
              "          + ' to learn more about interactive tables.';\n",
              "        element.innerHTML = '';\n",
              "        dataTable['output_type'] = 'display_data';\n",
              "        await google.colab.output.renderOutput(dataTable, element);\n",
              "        const docLink = document.createElement('div');\n",
              "        docLink.innerHTML = docLinkHtml;\n",
              "        element.appendChild(docLink);\n",
              "      }\n",
              "    </script>\n",
              "  </div>\n",
              "\n",
              "\n",
              "<div id=\"df-04ccc8c2-8617-4639-a9c4-eb078a168ca8\">\n",
              "  <button class=\"colab-df-quickchart\" onclick=\"quickchart('df-04ccc8c2-8617-4639-a9c4-eb078a168ca8')\"\n",
              "            title=\"Suggest charts\"\n",
              "            style=\"display:none;\">\n",
              "\n",
              "<svg xmlns=\"http://www.w3.org/2000/svg\" height=\"24px\"viewBox=\"0 0 24 24\"\n",
              "     width=\"24px\">\n",
              "    <g>\n",
              "        <path d=\"M19 3H5c-1.1 0-2 .9-2 2v14c0 1.1.9 2 2 2h14c1.1 0 2-.9 2-2V5c0-1.1-.9-2-2-2zM9 17H7v-7h2v7zm4 0h-2V7h2v10zm4 0h-2v-4h2v4z\"/>\n",
              "    </g>\n",
              "</svg>\n",
              "  </button>\n",
              "\n",
              "<style>\n",
              "  .colab-df-quickchart {\n",
              "      --bg-color: #E8F0FE;\n",
              "      --fill-color: #1967D2;\n",
              "      --hover-bg-color: #E2EBFA;\n",
              "      --hover-fill-color: #174EA6;\n",
              "      --disabled-fill-color: #AAA;\n",
              "      --disabled-bg-color: #DDD;\n",
              "  }\n",
              "\n",
              "  [theme=dark] .colab-df-quickchart {\n",
              "      --bg-color: #3B4455;\n",
              "      --fill-color: #D2E3FC;\n",
              "      --hover-bg-color: #434B5C;\n",
              "      --hover-fill-color: #FFFFFF;\n",
              "      --disabled-bg-color: #3B4455;\n",
              "      --disabled-fill-color: #666;\n",
              "  }\n",
              "\n",
              "  .colab-df-quickchart {\n",
              "    background-color: var(--bg-color);\n",
              "    border: none;\n",
              "    border-radius: 50%;\n",
              "    cursor: pointer;\n",
              "    display: none;\n",
              "    fill: var(--fill-color);\n",
              "    height: 32px;\n",
              "    padding: 0;\n",
              "    width: 32px;\n",
              "  }\n",
              "\n",
              "  .colab-df-quickchart:hover {\n",
              "    background-color: var(--hover-bg-color);\n",
              "    box-shadow: 0 1px 2px rgba(60, 64, 67, 0.3), 0 1px 3px 1px rgba(60, 64, 67, 0.15);\n",
              "    fill: var(--button-hover-fill-color);\n",
              "  }\n",
              "\n",
              "  .colab-df-quickchart-complete:disabled,\n",
              "  .colab-df-quickchart-complete:disabled:hover {\n",
              "    background-color: var(--disabled-bg-color);\n",
              "    fill: var(--disabled-fill-color);\n",
              "    box-shadow: none;\n",
              "  }\n",
              "\n",
              "  .colab-df-spinner {\n",
              "    border: 2px solid var(--fill-color);\n",
              "    border-color: transparent;\n",
              "    border-bottom-color: var(--fill-color);\n",
              "    animation:\n",
              "      spin 1s steps(1) infinite;\n",
              "  }\n",
              "\n",
              "  @keyframes spin {\n",
              "    0% {\n",
              "      border-color: transparent;\n",
              "      border-bottom-color: var(--fill-color);\n",
              "      border-left-color: var(--fill-color);\n",
              "    }\n",
              "    20% {\n",
              "      border-color: transparent;\n",
              "      border-left-color: var(--fill-color);\n",
              "      border-top-color: var(--fill-color);\n",
              "    }\n",
              "    30% {\n",
              "      border-color: transparent;\n",
              "      border-left-color: var(--fill-color);\n",
              "      border-top-color: var(--fill-color);\n",
              "      border-right-color: var(--fill-color);\n",
              "    }\n",
              "    40% {\n",
              "      border-color: transparent;\n",
              "      border-right-color: var(--fill-color);\n",
              "      border-top-color: var(--fill-color);\n",
              "    }\n",
              "    60% {\n",
              "      border-color: transparent;\n",
              "      border-right-color: var(--fill-color);\n",
              "    }\n",
              "    80% {\n",
              "      border-color: transparent;\n",
              "      border-right-color: var(--fill-color);\n",
              "      border-bottom-color: var(--fill-color);\n",
              "    }\n",
              "    90% {\n",
              "      border-color: transparent;\n",
              "      border-bottom-color: var(--fill-color);\n",
              "    }\n",
              "  }\n",
              "</style>\n",
              "\n",
              "  <script>\n",
              "    async function quickchart(key) {\n",
              "      const quickchartButtonEl =\n",
              "        document.querySelector('#' + key + ' button');\n",
              "      quickchartButtonEl.disabled = true;  // To prevent multiple clicks.\n",
              "      quickchartButtonEl.classList.add('colab-df-spinner');\n",
              "      try {\n",
              "        const charts = await google.colab.kernel.invokeFunction(\n",
              "            'suggestCharts', [key], {});\n",
              "      } catch (error) {\n",
              "        console.error('Error during call to suggestCharts:', error);\n",
              "      }\n",
              "      quickchartButtonEl.classList.remove('colab-df-spinner');\n",
              "      quickchartButtonEl.classList.add('colab-df-quickchart-complete');\n",
              "    }\n",
              "    (() => {\n",
              "      let quickchartButtonEl =\n",
              "        document.querySelector('#df-04ccc8c2-8617-4639-a9c4-eb078a168ca8 button');\n",
              "      quickchartButtonEl.style.display =\n",
              "        google.colab.kernel.accessAllowed ? 'block' : 'none';\n",
              "    })();\n",
              "  </script>\n",
              "</div>\n",
              "\n",
              "    </div>\n",
              "  </div>\n"
            ],
            "application/vnd.google.colaboratory.intrinsic+json": {
              "type": "dataframe",
              "variable_name": "tienda",
              "summary": "{\n  \"name\": \"tienda\",\n  \"rows\": 2359,\n  \"fields\": [\n    {\n      \"column\": \"Producto\",\n      \"properties\": {\n        \"dtype\": \"category\",\n        \"num_unique_values\": 51,\n        \"samples\": [\n          \"Guitarra ac\\u00fastica\",\n          \"Bal\\u00f3n de baloncesto\",\n          \"Smartwatch\"\n        ],\n        \"semantic_type\": \"\",\n        \"description\": \"\"\n      }\n    },\n    {\n      \"column\": \"Categor\\u00eda del Producto\",\n      \"properties\": {\n        \"dtype\": \"category\",\n        \"num_unique_values\": 8,\n        \"samples\": [\n          \"Muebles\",\n          \"Deportes y diversi\\u00f3n\",\n          \"Electr\\u00f3nicos\"\n        ],\n        \"semantic_type\": \"\",\n        \"description\": \"\"\n      }\n    },\n    {\n      \"column\": \"Precio\",\n      \"properties\": {\n        \"dtype\": \"number\",\n        \"std\": 614686.7653873172,\n        \"min\": 7600.0,\n        \"max\": 2977000.0,\n        \"num_unique_values\": 1937,\n        \"samples\": [\n          2499400.0,\n          14800.0,\n          80500.0\n        ],\n        \"semantic_type\": \"\",\n        \"description\": \"\"\n      }\n    },\n    {\n      \"column\": \"Costo de env\\u00edo\",\n      \"properties\": {\n        \"dtype\": \"number\",\n        \"std\": 32860.0017825605,\n        \"min\": 0.0,\n        \"max\": 160800.0,\n        \"num_unique_values\": 753,\n        \"samples\": [\n          117800.0,\n          54700.0,\n          45600.0\n        ],\n        \"semantic_type\": \"\",\n        \"description\": \"\"\n      }\n    },\n    {\n      \"column\": \"Fecha de Compra\",\n      \"properties\": {\n        \"dtype\": \"object\",\n        \"num_unique_values\": 1018,\n        \"samples\": [\n          \"15/09/2022\",\n          \"03/06/2020\",\n          \"06/11/2021\"\n        ],\n        \"semantic_type\": \"\",\n        \"description\": \"\"\n      }\n    },\n    {\n      \"column\": \"Vendedor\",\n      \"properties\": {\n        \"dtype\": \"category\",\n        \"num_unique_values\": 14,\n        \"samples\": [\n          \"Juliana Costa\",\n          \"Mariana Herrera\",\n          \"Pedro Gomez\"\n        ],\n        \"semantic_type\": \"\",\n        \"description\": \"\"\n      }\n    },\n    {\n      \"column\": \"Lugar de Compra\",\n      \"properties\": {\n        \"dtype\": \"category\",\n        \"num_unique_values\": 19,\n        \"samples\": [\n          \"Bogot\\u00e1\",\n          \"Pereira\",\n          \"Neiva\"\n        ],\n        \"semantic_type\": \"\",\n        \"description\": \"\"\n      }\n    },\n    {\n      \"column\": \"Calificaci\\u00f3n\",\n      \"properties\": {\n        \"dtype\": \"number\",\n        \"std\": 1,\n        \"min\": 1,\n        \"max\": 5,\n        \"num_unique_values\": 5,\n        \"samples\": [\n          1,\n          2,\n          5\n        ],\n        \"semantic_type\": \"\",\n        \"description\": \"\"\n      }\n    },\n    {\n      \"column\": \"M\\u00e9todo de pago\",\n      \"properties\": {\n        \"dtype\": \"category\",\n        \"num_unique_values\": 4,\n        \"samples\": [\n          \"Nequi\",\n          \"Tarjeta de d\\u00e9bito\",\n          \"Tarjeta de cr\\u00e9dito\"\n        ],\n        \"semantic_type\": \"\",\n        \"description\": \"\"\n      }\n    },\n    {\n      \"column\": \"Cantidad de cuotas\",\n      \"properties\": {\n        \"dtype\": \"number\",\n        \"std\": 2,\n        \"min\": 1,\n        \"max\": 24,\n        \"num_unique_values\": 15,\n        \"samples\": [\n          7,\n          14,\n          8\n        ],\n        \"semantic_type\": \"\",\n        \"description\": \"\"\n      }\n    },\n    {\n      \"column\": \"lat\",\n      \"properties\": {\n        \"dtype\": \"number\",\n        \"std\": 2.2874452492678627,\n        \"min\": -4.21528,\n        \"max\": 11.54444,\n        \"num_unique_values\": 19,\n        \"samples\": [\n          4.60971,\n          4.81333,\n          2.9273\n        ],\n        \"semantic_type\": \"\",\n        \"description\": \"\"\n      }\n    },\n    {\n      \"column\": \"lon\",\n      \"properties\": {\n        \"dtype\": \"number\",\n        \"std\": 1.2178272727088486,\n        \"min\": -77.28111,\n        \"max\": -67.9239,\n        \"num_unique_values\": 19,\n        \"samples\": [\n          -74.08175,\n          -75.69611,\n          -75.28189\n        ],\n        \"semantic_type\": \"\",\n        \"description\": \"\"\n      }\n    }\n  ]\n}"
            }
          },
          "metadata": {},
          "execution_count": 2
        }
      ],
      "source": [
        "import pandas as pd\n",
        "\n",
        "url = \"https://raw.githubusercontent.com/alura-es-cursos/challenge1-data-science-latam/refs/heads/main/base-de-datos-challenge1-latam/tienda_1%20.csv\"\n",
        "url2 = \"https://raw.githubusercontent.com/alura-es-cursos/challenge1-data-science-latam/refs/heads/main/base-de-datos-challenge1-latam/tienda_2.csv\"\n",
        "url3 = \"https://raw.githubusercontent.com/alura-es-cursos/challenge1-data-science-latam/refs/heads/main/base-de-datos-challenge1-latam/tienda_3.csv\"\n",
        "url4 = \"https://raw.githubusercontent.com/alura-es-cursos/challenge1-data-science-latam/refs/heads/main/base-de-datos-challenge1-latam/tienda_4.csv\"\n",
        "\n",
        "tienda = pd.read_csv(url)\n",
        "tienda2 = pd.read_csv(url2)\n",
        "tienda3 = pd.read_csv(url3)\n",
        "tienda4 = pd.read_csv(url4)\n",
        "\n",
        "tienda.head()"
      ]
    },
    {
      "cell_type": "markdown",
      "source": [
        "#1. Análisis de facturación\n",
        "\n"
      ],
      "metadata": {
        "id": "X62IW3KFUIYm"
      }
    },
    {
      "cell_type": "markdown",
      "source": [
        "1. **Unificamos las tiendas**\n",
        "\n",
        "Cada tienda tenía su propio archivo o DataFrame (`tienda`, `tienda2`, `tienda3`, `tienda4`). Para analizarlas juntas, las unimos en un solo DataFrame, añadiendo una columna nueva llamada \"`Tienda`\" que identifica de cuál tienda viene cada registro."
      ],
      "metadata": {
        "id": "X-CiLxneJTv-"
      }
    },
    {
      "cell_type": "code",
      "source": [
        "# Verificamos las columnas de cada tienda\n",
        "print(\"Tienda 1:\", tienda.columns)\n",
        "print(\"Tienda 2:\", tienda2.columns)\n",
        "print(\"Tienda 3:\", tienda3.columns)\n",
        "print(\"Tienda 4:\", tienda4.columns)\n",
        "\n",
        "# Agregamos columna identificadora\n",
        "tienda['Tienda'] = 'Tienda 1'\n",
        "tienda2['Tienda'] = 'Tienda 2'\n",
        "tienda3['Tienda'] = 'Tienda 3'\n",
        "tienda4['Tienda'] = 'Tienda 4'\n",
        "\n",
        "# Unificamos\n",
        "df = pd.concat([tienda, tienda2, tienda3, tienda4], ignore_index=True)"
      ],
      "metadata": {
        "colab": {
          "base_uri": "https://localhost:8080/"
        },
        "id": "bdg2l_mwFP5X",
        "outputId": "d146e9b2-001f-4eda-bf39-c56257526759"
      },
      "execution_count": 3,
      "outputs": [
        {
          "output_type": "stream",
          "name": "stdout",
          "text": [
            "Tienda 1: Index(['Producto', 'Categoría del Producto', 'Precio', 'Costo de envío',\n",
            "       'Fecha de Compra', 'Vendedor', 'Lugar de Compra', 'Calificación',\n",
            "       'Método de pago', 'Cantidad de cuotas', 'lat', 'lon'],\n",
            "      dtype='object')\n",
            "Tienda 2: Index(['Producto', 'Categoría del Producto', 'Precio', 'Costo de envío',\n",
            "       'Fecha de Compra', 'Vendedor', 'Lugar de Compra', 'Calificación',\n",
            "       'Método de pago', 'Cantidad de cuotas', 'lat', 'lon'],\n",
            "      dtype='object')\n",
            "Tienda 3: Index(['Producto', 'Categoría del Producto', 'Precio', 'Costo de envío',\n",
            "       'Fecha de Compra', 'Vendedor', 'Lugar de Compra', 'Calificación',\n",
            "       'Método de pago', 'Cantidad de cuotas', 'lat', 'lon'],\n",
            "      dtype='object')\n",
            "Tienda 4: Index(['Producto', 'Categoría del Producto', 'Precio', 'Costo de envío',\n",
            "       'Fecha de Compra', 'Vendedor', 'Lugar de Compra', 'Calificación',\n",
            "       'Método de pago', 'Cantidad de cuotas', 'lat', 'lon'],\n",
            "      dtype='object')\n"
          ]
        }
      ]
    },
    {
      "cell_type": "markdown",
      "source": [
        "2. **Creamos la columna de facturación**\n",
        "\n",
        "La facturación de cada venta se calcula sumando:\n",
        "\n",
        "El precio del producto (\"`Precio`\")"
      ],
      "metadata": {
        "id": "QD0NQtOlKHWm"
      }
    },
    {
      "cell_type": "code",
      "source": [
        "# Creamos columna de facturación\n",
        "df['Facturación'] = df['Precio']\n"
      ],
      "metadata": {
        "id": "OORIBJJxFQ1_"
      },
      "execution_count": 4,
      "outputs": []
    },
    {
      "cell_type": "markdown",
      "source": [
        "3. **Agrupamos por tienda**\n",
        "\n",
        "Queríamos saber cuánto facturó cada tienda en total, así que agrupamos los datos por la columna \"`Tienda`\" y sumamos la facturación.\n",
        "\n",
        "Moatramos resultados."
      ],
      "metadata": {
        "id": "NKuIynNTKZg2"
      }
    },
    {
      "cell_type": "code",
      "source": [
        "# Agrupamos por tienda\n",
        "facturacion_por_tienda = df.groupby('Tienda')['Facturación'].sum().reset_index()\n",
        "\n",
        "# Mostramos el resultado\n",
        "facturacion_por_tienda"
      ],
      "metadata": {
        "colab": {
          "base_uri": "https://localhost:8080/",
          "height": 175
        },
        "id": "gNMX2IXfLpnU",
        "outputId": "0c5c82c7-806b-43de-efad-0cba23e64224"
      },
      "execution_count": 5,
      "outputs": [
        {
          "output_type": "execute_result",
          "data": {
            "text/plain": [
              "     Tienda   Facturación\n",
              "0  Tienda 1  1.150880e+09\n",
              "1  Tienda 2  1.116344e+09\n",
              "2  Tienda 3  1.098020e+09\n",
              "3  Tienda 4  1.038376e+09"
            ],
            "text/html": [
              "\n",
              "  <div id=\"df-a36ac2f5-610c-4cf8-931a-71af9316fbbd\" class=\"colab-df-container\">\n",
              "    <div>\n",
              "<style scoped>\n",
              "    .dataframe tbody tr th:only-of-type {\n",
              "        vertical-align: middle;\n",
              "    }\n",
              "\n",
              "    .dataframe tbody tr th {\n",
              "        vertical-align: top;\n",
              "    }\n",
              "\n",
              "    .dataframe thead th {\n",
              "        text-align: right;\n",
              "    }\n",
              "</style>\n",
              "<table border=\"1\" class=\"dataframe\">\n",
              "  <thead>\n",
              "    <tr style=\"text-align: right;\">\n",
              "      <th></th>\n",
              "      <th>Tienda</th>\n",
              "      <th>Facturación</th>\n",
              "    </tr>\n",
              "  </thead>\n",
              "  <tbody>\n",
              "    <tr>\n",
              "      <th>0</th>\n",
              "      <td>Tienda 1</td>\n",
              "      <td>1.150880e+09</td>\n",
              "    </tr>\n",
              "    <tr>\n",
              "      <th>1</th>\n",
              "      <td>Tienda 2</td>\n",
              "      <td>1.116344e+09</td>\n",
              "    </tr>\n",
              "    <tr>\n",
              "      <th>2</th>\n",
              "      <td>Tienda 3</td>\n",
              "      <td>1.098020e+09</td>\n",
              "    </tr>\n",
              "    <tr>\n",
              "      <th>3</th>\n",
              "      <td>Tienda 4</td>\n",
              "      <td>1.038376e+09</td>\n",
              "    </tr>\n",
              "  </tbody>\n",
              "</table>\n",
              "</div>\n",
              "    <div class=\"colab-df-buttons\">\n",
              "\n",
              "  <div class=\"colab-df-container\">\n",
              "    <button class=\"colab-df-convert\" onclick=\"convertToInteractive('df-a36ac2f5-610c-4cf8-931a-71af9316fbbd')\"\n",
              "            title=\"Convert this dataframe to an interactive table.\"\n",
              "            style=\"display:none;\">\n",
              "\n",
              "  <svg xmlns=\"http://www.w3.org/2000/svg\" height=\"24px\" viewBox=\"0 -960 960 960\">\n",
              "    <path d=\"M120-120v-720h720v720H120Zm60-500h600v-160H180v160Zm220 220h160v-160H400v160Zm0 220h160v-160H400v160ZM180-400h160v-160H180v160Zm440 0h160v-160H620v160ZM180-180h160v-160H180v160Zm440 0h160v-160H620v160Z\"/>\n",
              "  </svg>\n",
              "    </button>\n",
              "\n",
              "  <style>\n",
              "    .colab-df-container {\n",
              "      display:flex;\n",
              "      gap: 12px;\n",
              "    }\n",
              "\n",
              "    .colab-df-convert {\n",
              "      background-color: #E8F0FE;\n",
              "      border: none;\n",
              "      border-radius: 50%;\n",
              "      cursor: pointer;\n",
              "      display: none;\n",
              "      fill: #1967D2;\n",
              "      height: 32px;\n",
              "      padding: 0 0 0 0;\n",
              "      width: 32px;\n",
              "    }\n",
              "\n",
              "    .colab-df-convert:hover {\n",
              "      background-color: #E2EBFA;\n",
              "      box-shadow: 0px 1px 2px rgba(60, 64, 67, 0.3), 0px 1px 3px 1px rgba(60, 64, 67, 0.15);\n",
              "      fill: #174EA6;\n",
              "    }\n",
              "\n",
              "    .colab-df-buttons div {\n",
              "      margin-bottom: 4px;\n",
              "    }\n",
              "\n",
              "    [theme=dark] .colab-df-convert {\n",
              "      background-color: #3B4455;\n",
              "      fill: #D2E3FC;\n",
              "    }\n",
              "\n",
              "    [theme=dark] .colab-df-convert:hover {\n",
              "      background-color: #434B5C;\n",
              "      box-shadow: 0px 1px 3px 1px rgba(0, 0, 0, 0.15);\n",
              "      filter: drop-shadow(0px 1px 2px rgba(0, 0, 0, 0.3));\n",
              "      fill: #FFFFFF;\n",
              "    }\n",
              "  </style>\n",
              "\n",
              "    <script>\n",
              "      const buttonEl =\n",
              "        document.querySelector('#df-a36ac2f5-610c-4cf8-931a-71af9316fbbd button.colab-df-convert');\n",
              "      buttonEl.style.display =\n",
              "        google.colab.kernel.accessAllowed ? 'block' : 'none';\n",
              "\n",
              "      async function convertToInteractive(key) {\n",
              "        const element = document.querySelector('#df-a36ac2f5-610c-4cf8-931a-71af9316fbbd');\n",
              "        const dataTable =\n",
              "          await google.colab.kernel.invokeFunction('convertToInteractive',\n",
              "                                                    [key], {});\n",
              "        if (!dataTable) return;\n",
              "\n",
              "        const docLinkHtml = 'Like what you see? Visit the ' +\n",
              "          '<a target=\"_blank\" href=https://colab.research.google.com/notebooks/data_table.ipynb>data table notebook</a>'\n",
              "          + ' to learn more about interactive tables.';\n",
              "        element.innerHTML = '';\n",
              "        dataTable['output_type'] = 'display_data';\n",
              "        await google.colab.output.renderOutput(dataTable, element);\n",
              "        const docLink = document.createElement('div');\n",
              "        docLink.innerHTML = docLinkHtml;\n",
              "        element.appendChild(docLink);\n",
              "      }\n",
              "    </script>\n",
              "  </div>\n",
              "\n",
              "\n",
              "<div id=\"df-4009a3ec-22e1-4a54-b59e-0f7f0636d682\">\n",
              "  <button class=\"colab-df-quickchart\" onclick=\"quickchart('df-4009a3ec-22e1-4a54-b59e-0f7f0636d682')\"\n",
              "            title=\"Suggest charts\"\n",
              "            style=\"display:none;\">\n",
              "\n",
              "<svg xmlns=\"http://www.w3.org/2000/svg\" height=\"24px\"viewBox=\"0 0 24 24\"\n",
              "     width=\"24px\">\n",
              "    <g>\n",
              "        <path d=\"M19 3H5c-1.1 0-2 .9-2 2v14c0 1.1.9 2 2 2h14c1.1 0 2-.9 2-2V5c0-1.1-.9-2-2-2zM9 17H7v-7h2v7zm4 0h-2V7h2v10zm4 0h-2v-4h2v4z\"/>\n",
              "    </g>\n",
              "</svg>\n",
              "  </button>\n",
              "\n",
              "<style>\n",
              "  .colab-df-quickchart {\n",
              "      --bg-color: #E8F0FE;\n",
              "      --fill-color: #1967D2;\n",
              "      --hover-bg-color: #E2EBFA;\n",
              "      --hover-fill-color: #174EA6;\n",
              "      --disabled-fill-color: #AAA;\n",
              "      --disabled-bg-color: #DDD;\n",
              "  }\n",
              "\n",
              "  [theme=dark] .colab-df-quickchart {\n",
              "      --bg-color: #3B4455;\n",
              "      --fill-color: #D2E3FC;\n",
              "      --hover-bg-color: #434B5C;\n",
              "      --hover-fill-color: #FFFFFF;\n",
              "      --disabled-bg-color: #3B4455;\n",
              "      --disabled-fill-color: #666;\n",
              "  }\n",
              "\n",
              "  .colab-df-quickchart {\n",
              "    background-color: var(--bg-color);\n",
              "    border: none;\n",
              "    border-radius: 50%;\n",
              "    cursor: pointer;\n",
              "    display: none;\n",
              "    fill: var(--fill-color);\n",
              "    height: 32px;\n",
              "    padding: 0;\n",
              "    width: 32px;\n",
              "  }\n",
              "\n",
              "  .colab-df-quickchart:hover {\n",
              "    background-color: var(--hover-bg-color);\n",
              "    box-shadow: 0 1px 2px rgba(60, 64, 67, 0.3), 0 1px 3px 1px rgba(60, 64, 67, 0.15);\n",
              "    fill: var(--button-hover-fill-color);\n",
              "  }\n",
              "\n",
              "  .colab-df-quickchart-complete:disabled,\n",
              "  .colab-df-quickchart-complete:disabled:hover {\n",
              "    background-color: var(--disabled-bg-color);\n",
              "    fill: var(--disabled-fill-color);\n",
              "    box-shadow: none;\n",
              "  }\n",
              "\n",
              "  .colab-df-spinner {\n",
              "    border: 2px solid var(--fill-color);\n",
              "    border-color: transparent;\n",
              "    border-bottom-color: var(--fill-color);\n",
              "    animation:\n",
              "      spin 1s steps(1) infinite;\n",
              "  }\n",
              "\n",
              "  @keyframes spin {\n",
              "    0% {\n",
              "      border-color: transparent;\n",
              "      border-bottom-color: var(--fill-color);\n",
              "      border-left-color: var(--fill-color);\n",
              "    }\n",
              "    20% {\n",
              "      border-color: transparent;\n",
              "      border-left-color: var(--fill-color);\n",
              "      border-top-color: var(--fill-color);\n",
              "    }\n",
              "    30% {\n",
              "      border-color: transparent;\n",
              "      border-left-color: var(--fill-color);\n",
              "      border-top-color: var(--fill-color);\n",
              "      border-right-color: var(--fill-color);\n",
              "    }\n",
              "    40% {\n",
              "      border-color: transparent;\n",
              "      border-right-color: var(--fill-color);\n",
              "      border-top-color: var(--fill-color);\n",
              "    }\n",
              "    60% {\n",
              "      border-color: transparent;\n",
              "      border-right-color: var(--fill-color);\n",
              "    }\n",
              "    80% {\n",
              "      border-color: transparent;\n",
              "      border-right-color: var(--fill-color);\n",
              "      border-bottom-color: var(--fill-color);\n",
              "    }\n",
              "    90% {\n",
              "      border-color: transparent;\n",
              "      border-bottom-color: var(--fill-color);\n",
              "    }\n",
              "  }\n",
              "</style>\n",
              "\n",
              "  <script>\n",
              "    async function quickchart(key) {\n",
              "      const quickchartButtonEl =\n",
              "        document.querySelector('#' + key + ' button');\n",
              "      quickchartButtonEl.disabled = true;  // To prevent multiple clicks.\n",
              "      quickchartButtonEl.classList.add('colab-df-spinner');\n",
              "      try {\n",
              "        const charts = await google.colab.kernel.invokeFunction(\n",
              "            'suggestCharts', [key], {});\n",
              "      } catch (error) {\n",
              "        console.error('Error during call to suggestCharts:', error);\n",
              "      }\n",
              "      quickchartButtonEl.classList.remove('colab-df-spinner');\n",
              "      quickchartButtonEl.classList.add('colab-df-quickchart-complete');\n",
              "    }\n",
              "    (() => {\n",
              "      let quickchartButtonEl =\n",
              "        document.querySelector('#df-4009a3ec-22e1-4a54-b59e-0f7f0636d682 button');\n",
              "      quickchartButtonEl.style.display =\n",
              "        google.colab.kernel.accessAllowed ? 'block' : 'none';\n",
              "    })();\n",
              "  </script>\n",
              "</div>\n",
              "\n",
              "  <div id=\"id_8c241b51-dd6a-4768-a3d4-f9756fb569bb\">\n",
              "    <style>\n",
              "      .colab-df-generate {\n",
              "        background-color: #E8F0FE;\n",
              "        border: none;\n",
              "        border-radius: 50%;\n",
              "        cursor: pointer;\n",
              "        display: none;\n",
              "        fill: #1967D2;\n",
              "        height: 32px;\n",
              "        padding: 0 0 0 0;\n",
              "        width: 32px;\n",
              "      }\n",
              "\n",
              "      .colab-df-generate:hover {\n",
              "        background-color: #E2EBFA;\n",
              "        box-shadow: 0px 1px 2px rgba(60, 64, 67, 0.3), 0px 1px 3px 1px rgba(60, 64, 67, 0.15);\n",
              "        fill: #174EA6;\n",
              "      }\n",
              "\n",
              "      [theme=dark] .colab-df-generate {\n",
              "        background-color: #3B4455;\n",
              "        fill: #D2E3FC;\n",
              "      }\n",
              "\n",
              "      [theme=dark] .colab-df-generate:hover {\n",
              "        background-color: #434B5C;\n",
              "        box-shadow: 0px 1px 3px 1px rgba(0, 0, 0, 0.15);\n",
              "        filter: drop-shadow(0px 1px 2px rgba(0, 0, 0, 0.3));\n",
              "        fill: #FFFFFF;\n",
              "      }\n",
              "    </style>\n",
              "    <button class=\"colab-df-generate\" onclick=\"generateWithVariable('facturacion_por_tienda')\"\n",
              "            title=\"Generate code using this dataframe.\"\n",
              "            style=\"display:none;\">\n",
              "\n",
              "  <svg xmlns=\"http://www.w3.org/2000/svg\" height=\"24px\"viewBox=\"0 0 24 24\"\n",
              "       width=\"24px\">\n",
              "    <path d=\"M7,19H8.4L18.45,9,17,7.55,7,17.6ZM5,21V16.75L18.45,3.32a2,2,0,0,1,2.83,0l1.4,1.43a1.91,1.91,0,0,1,.58,1.4,1.91,1.91,0,0,1-.58,1.4L9.25,21ZM18.45,9,17,7.55Zm-12,3A5.31,5.31,0,0,0,4.9,8.1,5.31,5.31,0,0,0,1,6.5,5.31,5.31,0,0,0,4.9,4.9,5.31,5.31,0,0,0,6.5,1,5.31,5.31,0,0,0,8.1,4.9,5.31,5.31,0,0,0,12,6.5,5.46,5.46,0,0,0,6.5,12Z\"/>\n",
              "  </svg>\n",
              "    </button>\n",
              "    <script>\n",
              "      (() => {\n",
              "      const buttonEl =\n",
              "        document.querySelector('#id_8c241b51-dd6a-4768-a3d4-f9756fb569bb button.colab-df-generate');\n",
              "      buttonEl.style.display =\n",
              "        google.colab.kernel.accessAllowed ? 'block' : 'none';\n",
              "\n",
              "      buttonEl.onclick = () => {\n",
              "        google.colab.notebook.generateWithVariable('facturacion_por_tienda');\n",
              "      }\n",
              "      })();\n",
              "    </script>\n",
              "  </div>\n",
              "\n",
              "    </div>\n",
              "  </div>\n"
            ],
            "application/vnd.google.colaboratory.intrinsic+json": {
              "type": "dataframe",
              "variable_name": "facturacion_por_tienda",
              "summary": "{\n  \"name\": \"facturacion_por_tienda\",\n  \"rows\": 4,\n  \"fields\": [\n    {\n      \"column\": \"Tienda\",\n      \"properties\": {\n        \"dtype\": \"string\",\n        \"num_unique_values\": 4,\n        \"samples\": [\n          \"Tienda 2\",\n          \"Tienda 4\",\n          \"Tienda 1\"\n        ],\n        \"semantic_type\": \"\",\n        \"description\": \"\"\n      }\n    },\n    {\n      \"column\": \"Facturaci\\u00f3n\",\n      \"properties\": {\n        \"dtype\": \"number\",\n        \"std\": 47096096.01265622,\n        \"min\": 1038375700.0,\n        \"max\": 1150880400.0,\n        \"num_unique_values\": 4,\n        \"samples\": [\n          1116343500.0,\n          1038375700.0,\n          1150880400.0\n        ],\n        \"semantic_type\": \"\",\n        \"description\": \"\"\n      }\n    }\n  ]\n}"
            }
          },
          "metadata": {},
          "execution_count": 5
        }
      ]
    },
    {
      "cell_type": "markdown",
      "source": [
        "4. **Formateamos los números para que se vean claros**\n",
        "\n",
        "Como los valores eran muy grandes, los hicimos más legibles de dos formas:\n",
        "\n",
        "Opción 1: Con separador de miles (305,000,000)\n",
        "\n",
        "Opción 2: En millones, redondeado (305.00)"
      ],
      "metadata": {
        "id": "VG1lBkWdL591"
      }
    },
    {
      "cell_type": "code",
      "source": [
        "# Formatear con separador de miles\n",
        "facturacion_por_tienda['Facturación'] = facturacion_por_tienda['Facturación'].map('{:,.0f}'.format)\n",
        "\n",
        "# Mostrar tabla más clara\n",
        "print(facturacion_por_tienda)\n"
      ],
      "metadata": {
        "colab": {
          "base_uri": "https://localhost:8080/"
        },
        "id": "uennMiKpIuo_",
        "outputId": "bb3bbe96-5654-4ec4-af6b-6583e348c089"
      },
      "execution_count": 6,
      "outputs": [
        {
          "output_type": "stream",
          "name": "stdout",
          "text": [
            "     Tienda    Facturación\n",
            "0  Tienda 1  1,150,880,400\n",
            "1  Tienda 2  1,116,343,500\n",
            "2  Tienda 3  1,098,019,600\n",
            "3  Tienda 4  1,038,375,700\n"
          ]
        }
      ]
    },
    {
      "cell_type": "markdown",
      "source": [
        "# 2. Ventas por categoría"
      ],
      "metadata": {
        "id": "2V_vcAPzWZmR"
      }
    },
    {
      "cell_type": "markdown",
      "source": [
        "1. **Agrupar por tienda y categoría**\n",
        "\n",
        "Queremos contar cuántos productos se vendieron por categoría en cada tienda. Para eso, usamos `.groupby()` + `.size()` o `.count()`.\n",
        "\n",
        "2. Ver el resultado\n",
        "Esto nos da una tabla con 3 columnas:\n",
        "\n",
        "`Tienda`\n",
        "\n",
        "`Categoría del Producto`\n",
        "\n",
        "`Cantidad Vendida` (es decir, cuántas veces se vendió algo de esa categoría en esa tienda)"
      ],
      "metadata": {
        "id": "YmzmPpapM83u"
      }
    },
    {
      "cell_type": "code",
      "source": [
        "ventas_por_categoria = df.groupby(['Tienda', 'Categoría del Producto']).size().reset_index(name='Cantidad Vendida')\n",
        "print(ventas_por_categoria)"
      ],
      "metadata": {
        "id": "A34YupIuYhfF",
        "colab": {
          "base_uri": "https://localhost:8080/"
        },
        "outputId": "30e0363a-416f-4bc3-e056-edfe32f56004"
      },
      "execution_count": 7,
      "outputs": [
        {
          "output_type": "stream",
          "name": "stdout",
          "text": [
            "      Tienda   Categoría del Producto  Cantidad Vendida\n",
            "0   Tienda 1  Artículos para el hogar               171\n",
            "1   Tienda 1     Deportes y diversión               284\n",
            "2   Tienda 1        Electrodomésticos               312\n",
            "3   Tienda 1             Electrónicos               448\n",
            "4   Tienda 1   Instrumentos musicales               182\n",
            "5   Tienda 1                 Juguetes               324\n",
            "6   Tienda 1                   Libros               173\n",
            "7   Tienda 1                  Muebles               465\n",
            "8   Tienda 2  Artículos para el hogar               181\n",
            "9   Tienda 2     Deportes y diversión               275\n",
            "10  Tienda 2        Electrodomésticos               305\n",
            "11  Tienda 2             Electrónicos               422\n",
            "12  Tienda 2   Instrumentos musicales               224\n",
            "13  Tienda 2                 Juguetes               313\n",
            "14  Tienda 2                   Libros               197\n",
            "15  Tienda 2                  Muebles               442\n",
            "16  Tienda 3  Artículos para el hogar               177\n",
            "17  Tienda 3     Deportes y diversión               277\n",
            "18  Tienda 3        Electrodomésticos               278\n",
            "19  Tienda 3             Electrónicos               451\n",
            "20  Tienda 3   Instrumentos musicales               177\n",
            "21  Tienda 3                 Juguetes               315\n",
            "22  Tienda 3                   Libros               185\n",
            "23  Tienda 3                  Muebles               499\n",
            "24  Tienda 4  Artículos para el hogar               201\n",
            "25  Tienda 4     Deportes y diversión               277\n",
            "26  Tienda 4        Electrodomésticos               254\n",
            "27  Tienda 4             Electrónicos               451\n",
            "28  Tienda 4   Instrumentos musicales               170\n",
            "29  Tienda 4                 Juguetes               338\n",
            "30  Tienda 4                   Libros               187\n",
            "31  Tienda 4                  Muebles               480\n"
          ]
        }
      ]
    },
    {
      "cell_type": "markdown",
      "source": [
        "3. **Ordenar y tomar la categoría más popular de cada tienda**\n",
        "\n",
        "Ordenamos por cantidad vendida (de mayor a menor) y luego seleccionamos la categoría con más ventas por tienda.\n",
        "\n",
        "Mostramos resultados."
      ],
      "metadata": {
        "id": "jLHw5PJIRO-7"
      }
    },
    {
      "cell_type": "code",
      "source": [
        "categorias_populares = ventas_por_categoria.sort_values('Cantidad Vendida', ascending=False)\n",
        "categorias_populares = categorias_populares.groupby('Tienda').first().reset_index()\n",
        "print(\"Categorías más populares por tienda:\")\n",
        "print(categorias_populares)\n"
      ],
      "metadata": {
        "colab": {
          "base_uri": "https://localhost:8080/"
        },
        "id": "21tU_jDDRJSb",
        "outputId": "0c311fc6-056d-42b6-9fda-8f8df6a0c36e"
      },
      "execution_count": 8,
      "outputs": [
        {
          "output_type": "stream",
          "name": "stdout",
          "text": [
            "Categorías más populares por tienda:\n",
            "     Tienda Categoría del Producto  Cantidad Vendida\n",
            "0  Tienda 1                Muebles               465\n",
            "1  Tienda 2                Muebles               442\n",
            "2  Tienda 3                Muebles               499\n",
            "3  Tienda 4                Muebles               480\n"
          ]
        }
      ]
    },
    {
      "cell_type": "markdown",
      "source": [
        "4. **Categoría menos vendida por tienda**\n",
        "\n",
        "Ordenamos por cantidad vendida (de menor a mayor) y luego seleccionamos la categoría con menos ventas por tienda.\n",
        "\n",
        "Mostramos resultados."
      ],
      "metadata": {
        "id": "ptSemLzjRJEz"
      }
    },
    {
      "cell_type": "code",
      "source": [
        "categorias_menos_vendidas = ventas_por_categoria.sort_values('Cantidad Vendida', ascending=True)\n",
        "categorias_menos_vendidas = categorias_menos_vendidas.groupby('Tienda').first().reset_index()\n",
        "print(\"Categorías menos vendidas por tienda:\")\n",
        "print(categorias_menos_vendidas)\n"
      ],
      "metadata": {
        "colab": {
          "base_uri": "https://localhost:8080/"
        },
        "id": "4kq8mCVfTQAz",
        "outputId": "d7192d8e-b3ba-4eba-d634-b389a8010188"
      },
      "execution_count": 9,
      "outputs": [
        {
          "output_type": "stream",
          "name": "stdout",
          "text": [
            "Categorías menos vendidas por tienda:\n",
            "     Tienda   Categoría del Producto  Cantidad Vendida\n",
            "0  Tienda 1  Artículos para el hogar               171\n",
            "1  Tienda 2  Artículos para el hogar               181\n",
            "2  Tienda 3  Artículos para el hogar               177\n",
            "3  Tienda 4   Instrumentos musicales               170\n"
          ]
        }
      ]
    },
    {
      "cell_type": "markdown",
      "source": [
        "# 3. Calificación promedio de la tienda\n"
      ],
      "metadata": {
        "id": "Rq6tU_xSY3jk"
      }
    },
    {
      "cell_type": "markdown",
      "source": [],
      "metadata": {
        "id": "RD1jBdeLjeKD"
      }
    },
    {
      "cell_type": "markdown",
      "source": [
        "1. **Agrupar por tienda**\n",
        "\n",
        "Usamos `.groupby`() y `.mean`() sobre la columna \"`Calificación`\":\n",
        "\n",
        "2. **Redondear**\n",
        "\n",
        "Para que sea más claro, podemos redondear a 2 decimales.\n",
        "mostramos resultados\n",
        "\n",
        "3. **Redondear de mayor a menor**\n"
      ],
      "metadata": {
        "id": "7PqCPveYUyXC"
      }
    },
    {
      "cell_type": "code",
      "source": [
        "calificacion_promedio = df.groupby('Tienda')['Calificación'].mean().reset_index()\n",
        "calificacion_promedio['Calificación Promedio'] = calificacion_promedio['Calificación'].round(2)\n",
        "calificacion_promedio = calificacion_promedio[['Tienda', 'Calificación Promedio']]\n",
        "calificacion_promedio = calificacion_promedio.sort_values('Calificación Promedio', ascending=False)\n",
        "\n",
        "print(calificacion_promedio)\n"
      ],
      "metadata": {
        "id": "bh3jjjJwY5MU",
        "colab": {
          "base_uri": "https://localhost:8080/"
        },
        "outputId": "cac81ff8-5d15-4397-97cf-e2ef7e553d7d"
      },
      "execution_count": 34,
      "outputs": [
        {
          "output_type": "stream",
          "name": "stdout",
          "text": [
            "     Tienda  Calificación Promedio\n",
            "2  Tienda 3                   4.05\n",
            "1  Tienda 2                   4.04\n",
            "3  Tienda 4                   4.00\n",
            "0  Tienda 1                   3.98\n"
          ]
        }
      ]
    },
    {
      "cell_type": "markdown",
      "source": [
        "# 4. Productos más y menos vendidos"
      ],
      "metadata": {
        "id": "DmNp1KPBZCm-"
      }
    },
    {
      "cell_type": "markdown",
      "source": [
        "1. **Obtener el producto más vendido de cada tienda**\n",
        "\n",
        "Ordenamos las ventas de mayor a menor y luego tomamos solo el primero de cada tienda.\n",
        "\n",
        "visualisamos resultados."
      ],
      "metadata": {
        "id": "2nSO3A5kP3nk"
      }
    },
    {
      "cell_type": "code",
      "source": [
        "ventas_por_producto = df.groupby(['Tienda', 'Producto']).size().reset_index(name='Cantidad Vendida')\n",
        "productos_populares = ventas_por_producto.sort_values('Cantidad Vendida', ascending=False)\n",
        "productos_populares = productos_populares.groupby('Tienda').first().reset_index()\n",
        "print(\"Productos más vendidos por tienda:\")\n",
        "print(productos_populares)"
      ],
      "metadata": {
        "id": "yZR6cOjXYSk1",
        "colab": {
          "base_uri": "https://localhost:8080/"
        },
        "outputId": "7a6ba816-5fad-42fc-bff2-6a13081ffbc2"
      },
      "execution_count": 46,
      "outputs": [
        {
          "output_type": "stream",
          "name": "stdout",
          "text": [
            "Productos más vendidos por tienda:\n",
            "     Tienda                   Producto  Cantidad Vendida\n",
            "0  Tienda 1              TV LED UHD 4K                60\n",
            "1  Tienda 2  Iniciando en programación                65\n",
            "2  Tienda 3              Kit de bancas                57\n",
            "3  Tienda 4                   Cama box                62\n"
          ]
        }
      ]
    },
    {
      "cell_type": "markdown",
      "source": [
        "2. **Obtener el producto menos vendido de cada tienda**\n",
        "\n",
        "Ordenamos las ventas de menor a mayor y luego tomamos solo el primero de cada tienda.\n",
        "\n",
        "visualisamos resultados."
      ],
      "metadata": {
        "id": "Or7crCEQTniD"
      }
    },
    {
      "cell_type": "code",
      "source": [
        "productos_menos_vendidos = ventas_por_producto.sort_values('Cantidad Vendida', ascending=True)\n",
        "productos_menos_vendidos = productos_menos_vendidos.groupby('Tienda').first().reset_index()\n",
        "print(\"Productos menos vendidos por tienda:\")\n",
        "print(productos_menos_vendidos)\n"
      ],
      "metadata": {
        "id": "qoyjqijQZHfF",
        "colab": {
          "base_uri": "https://localhost:8080/"
        },
        "outputId": "bdd33947-d6e8-45ed-cf9b-8ae8d89fefe0"
      },
      "execution_count": 22,
      "outputs": [
        {
          "output_type": "stream",
          "name": "stdout",
          "text": [
            "Productos menos vendidos por tienda:\n",
            "     Tienda                   Producto  Cantidad Vendida\n",
            "0  Tienda 1  Auriculares con micrófono                33\n",
            "1  Tienda 2              Juego de mesa                32\n",
            "2  Tienda 3    Bloques de construcción                35\n",
            "3  Tienda 4         Guitarra eléctrica                33\n"
          ]
        }
      ]
    },
    {
      "cell_type": "markdown",
      "source": [
        "# 5. Envío promedio por tienda"
      ],
      "metadata": {
        "id": "Fl0cGi3bZKqU"
      }
    },
    {
      "cell_type": "markdown",
      "source": [
        "1. Agrupar por tienda y calcular el promedio del costo de envío.\n",
        "2. Redondear.\n",
        "Para que los valores sean más claros.\n",
        "3. Ordenar de mayor a menor.\n",
        "Si quieres ver qué tienda gasta más en envíos.\n",
        "4. Mostrar resultado."
      ],
      "metadata": {
        "id": "GZJJbwbVXAGS"
      }
    },
    {
      "cell_type": "code",
      "source": [
        "costo_envio_promedio = df.groupby('Tienda')['Costo de envío'].mean().reset_index()\n",
        "costo_envio_promedio['Costo Promedio de Envío'] = costo_envio_promedio['Costo de envío'].round(2)\n",
        "costo_envio_promedio = costo_envio_promedio[['Tienda', 'Costo Promedio de Envío']]\n",
        "costo_envio_promedio = costo_envio_promedio.sort_values('Costo Promedio de Envío', ascending=False)\n",
        "print(\"Costo promedio de envío por tienda (de mayor a menor):\")\n",
        "print(costo_envio_promedio)"
      ],
      "metadata": {
        "id": "S2JeaCykZNy9",
        "colab": {
          "base_uri": "https://localhost:8080/"
        },
        "outputId": "0f7977bf-babd-4303-b63e-4bab7638b7c3"
      },
      "execution_count": 23,
      "outputs": [
        {
          "output_type": "stream",
          "name": "stdout",
          "text": [
            "Costo promedio de envío por tienda (de mayor a menor):\n",
            "     Tienda  Costo Promedio de Envío\n",
            "0  Tienda 1                 26018.61\n",
            "1  Tienda 2                 25216.24\n",
            "2  Tienda 3                 24805.68\n",
            "3  Tienda 4                 23459.46\n"
          ]
        }
      ]
    },
    {
      "cell_type": "markdown",
      "source": [
        "# **Visualización**"
      ],
      "metadata": {
        "id": "4le5BWi5YsmB"
      }
    },
    {
      "cell_type": "markdown",
      "source": [
        "**Import Matplotlib**"
      ],
      "metadata": {
        "id": "u8S9zrx-Y_3I"
      }
    },
    {
      "cell_type": "code",
      "source": [
        "import matplotlib.pyplot as plt"
      ],
      "metadata": {
        "id": "0tSdCie9ZQlt"
      },
      "execution_count": 40,
      "outputs": []
    },
    {
      "cell_type": "markdown",
      "source": [
        "**1. Gráfico de barras: Facturación por tienda**"
      ],
      "metadata": {
        "id": "BURhBKvnZPfp"
      }
    },
    {
      "cell_type": "code",
      "source": [
        "# Crear columna de facturación (solo Precio)\n",
        "df['Facturación'] = df['Precio']\n",
        "\n",
        "# Agrupar y calcular facturación total\n",
        "facturacion_por_tienda = df.groupby('Tienda')['Facturación'].sum().reset_index()\n",
        "facturacion_por_tienda['Facturación (Millones)'] = (facturacion_por_tienda['Facturación'] / 1_000_000).round(2)\n",
        "\n",
        "plt.figure(figsize=(8, 5))\n",
        "plt.bar(facturacion_por_tienda['Tienda'], facturacion_por_tienda['Facturación (Millones)'])\n",
        "plt.title('Facturación por Tienda (en millones)')\n",
        "plt.xlabel('Tienda')\n",
        "plt.ylabel('Millones de pesos')\n",
        "plt.grid(axis='y')\n",
        "plt.tight_layout()\n",
        "plt.show()"
      ],
      "metadata": {
        "colab": {
          "base_uri": "https://localhost:8080/",
          "height": 507
        },
        "collapsed": true,
        "id": "Gj_OtPRVZVP5",
        "outputId": "e5b23e9d-8416-4226-bd3a-9957b9dea838"
      },
      "execution_count": 43,
      "outputs": [
        {
          "output_type": "display_data",
          "data": {
            "text/plain": [
              "<Figure size 800x500 with 1 Axes>"
            ],
            "image/png": "[encoded data removed]"
          },
          "metadata": {}
        }
      ]
    },
    {
      "cell_type": "markdown",
      "source": [
        "**2. Barras horizontales: Categorías más vendidas**"
      ],
      "metadata": {
        "id": "zJTdbz6WZUjp"
      }
    },
    {
      "cell_type": "code",
      "source": [
        "# Agrupar ventas por categoría\n",
        "ventas_por_categoria = df.groupby(['Tienda', 'Categoría del Producto']).size().reset_index(name='Cantidad Vendida')\n",
        "\n",
        "# Tomar la categoría con más ventas por tienda\n",
        "categorias_populares = ventas_por_categoria.sort_values('Cantidad Vendida', ascending=False).groupby('Tienda').first().reset_index()\n",
        "\n",
        "# Gráfico de barras horizontales\n",
        "plt.figure(figsize=(8, 5))\n",
        "plt.barh(categorias_populares['Tienda'], categorias_populares['Cantidad Vendida'])\n",
        "plt.title('Categoría más vendida por Tienda')\n",
        "plt.xlabel('Cantidad Vendida')\n",
        "plt.ylabel('Tienda')\n",
        "plt.tight_layout()\n",
        "plt.show()"
      ],
      "metadata": {
        "colab": {
          "base_uri": "https://localhost:8080/",
          "height": 507
        },
        "id": "AXlMxDQ5Z5ix",
        "outputId": "05929548-2dde-4117-b3f0-9f0b754e07df"
      },
      "execution_count": 44,
      "outputs": [
        {
          "output_type": "display_data",
          "data": {
            "text/plain": [
              "<Figure size 800x500 with 1 Axes>"
            ],
            "image/png": "[encoded data removed]"
          },
          "metadata": {}
        }
      ]
    },
    {
      "cell_type": "markdown",
      "source": [
        "**3. Gráfico circular: Productos más vendidos**"
      ],
      "metadata": {
        "id": "sAxbKgkSaDZp"
      }
    },
    {
      "cell_type": "code",
      "source": [
        "# Agrupar ventas por producto\n",
        "ventas_por_producto = df.groupby(['Tienda', 'Producto']).size().reset_index(name='Cantidad Vendida')\n",
        "\n",
        "# Tomar el más vendido por tienda\n",
        "productos_populares = ventas_por_producto.sort_values('Cantidad Vendida', ascending=False).groupby('Tienda').first().reset_index()\n",
        "\n",
        "# Gráfico circular\n",
        "plt.figure(figsize=(6, 6))\n",
        "plt.pie(productos_populares['Cantidad Vendida'], labels=productos_populares['Producto'],\n",
        "        autopct='%1.1f%%', startangle=140)\n",
        "plt.title('Productos más vendidos (uno por tienda)')\n",
        "plt.axis('equal')  # Hacer el círculo proporcional\n",
        "plt.tight_layout()\n",
        "plt.show()\n"
      ],
      "metadata": {
        "colab": {
          "base_uri": "https://localhost:8080/",
          "height": 599
        },
        "id": "kGEKDNR5buVO",
        "outputId": "b725eac3-c471-4889-d1b9-94341dfba1a1"
      },
      "execution_count": 45,
      "outputs": [
        {
          "output_type": "display_data",
          "data": {
            "text/plain": [
              "<Figure size 600x600 with 1 Axes>"
            ],
            "image/png": "[encoded data removed]"
          },
          "metadata": {}
        }
      ]
    },
    {
      "cell_type": "markdown",
      "source": [
        "# **Informe Final - Recomendación para el Sr. Juan**"
      ],
      "metadata": {
        "id": "cpGldpn2dR67"
      }
    },
    {
      "cell_type": "markdown",
      "source": [
        "## Introducción"
      ],
      "metadata": {
        "id": "KC_2cJfWmCmL"
      }
    },
    {
      "cell_type": "markdown",
      "source": [
        "El presente análisis tiene como objetivo ayudar al Sr. Juan a tomar una decisión informada sobre cuál de sus cuatro tiendas de la cadena Alura Store LATAM debería vender para iniciar un nuevo emprendimiento. Para ello, se evaluaron distintas métricas clave relacionadas con el desempeño comercial de cada tienda: ingresos, productos más y menos vendidos, calificaciones de los clientes, categorías más populares y costos logísticos.\n",
        "\n",
        "Se realizó un análisis detallado considerando múltiples factores clave:\n",
        "- Ingresos totales por tienda (facturación)\n",
        "- Categorías de productos más y menos vendidas\n",
        "- Productos más y menos vendidos\n",
        "- Calificaciones promedio de los clientes\n",
        "- Costos de envío promedio"
      ],
      "metadata": {
        "id": "zhbqVksXdXPc"
      }
    },
    {
      "cell_type": "markdown",
      "source": [
        "## Desarrollo del análisis"
      ],
      "metadata": {
        "id": "pEMZFiawd2JF"
      }
    },
    {
      "cell_type": "markdown",
      "source": [
        "###Facturación total por tienda\n",
        "\n",
        "Se calculó la facturación total usando exclusivamente el precio de los productos vendidos. Los resultados mostraron:\n",
        "\n",
        "**Tienda 1** tiene la facturación **más alta**.\n",
        "\n",
        "**Tienda 4** presenta la facturación **más baja** de las cuatro.\n",
        "\n",
        "Esto indica que Tienda 4 tiene un rendimiento más débil en cuanto a ventas brutas."
      ],
      "metadata": {
        "id": "Sm55bupad6Ok"
      }
    },
    {
      "cell_type": "markdown",
      "source": [
        "###  Categorías más y menos vendidas"
      ],
      "metadata": {
        "id": "xq8N0WWoeGwd"
      }
    },
    {
      "cell_type": "markdown",
      "source": [
        "Al analizar las categorías de productos:\n",
        "\n",
        "- La **categoría más popular** en todas las tiendas fue consistentemente **“Muebles”**.\n",
        "- Sin embargo, la **categoría menos vendida** varía por tienda, mostrando debilidades particulares en ciertos tipos de productos."
      ],
      "metadata": {
        "id": "8Q94A_S9e-Ic"
      }
    },
    {
      "cell_type": "markdown",
      "source": [
        "### Productos más y menos vendidos"
      ],
      "metadata": {
        "id": "hCnjvY9TeFK0"
      }
    },
    {
      "cell_type": "markdown",
      "source": [
        "Cada tienda presentó un producto estrella diferente. Por ejemplo:\n",
        "\n",
        "- Tienda 2 destacó con un libro educativo.\n",
        "- Tienda 3 tuvo como más vendido un equipo de ejercicio.\n",
        "\n",
        "También se identificaron productos con muy poca rotación por tienda, especialmente en Tienda 3.\n"
      ],
      "metadata": {
        "id": "H50c733HnEya"
      }
    },
    {
      "cell_type": "markdown",
      "source": [
        "### Calificación promedio de clientes"
      ],
      "metadata": {
        "id": "QKuD3SQQnROE"
      }
    },
    {
      "cell_type": "markdown",
      "source": [
        "El análisis de la satisfacción del cliente reveló que:\n",
        "\n",
        "- **Tienda 1** y **Tienda 4** recibieron las mejores calificaciones promedio.\n",
        "- **Tienda 3** tuvo la **calificación más baja**, lo que refleja potenciales problemas en la experiencia de compra o postventa.\n"
      ],
      "metadata": {
        "id": "PZ3XwD5TnWgd"
      }
    },
    {
      "cell_type": "markdown",
      "source": [
        "### Costo de envío promedio"
      ],
      "metadata": {
        "id": "Z5LYtU9cna7r"
      }
    },
    {
      "cell_type": "markdown",
      "source": [
        "Se calculó el costo logístico promedio por tienda:\n",
        "\n",
        "- **Tienda 3** fue una de las tiendas con **mayor costo de envío promedio**, lo que puede estar reduciendo su rentabilidad.\n"
      ],
      "metadata": {
        "id": "STsTZyvNngED"
      }
    },
    {
      "cell_type": "markdown",
      "source": [
        "## Conclusión y recomendación"
      ],
      "metadata": {
        "id": "kqGABdpdnh8b"
      }
    },
    {
      "cell_type": "markdown",
      "source": [
        "Después de analizar todos los factores clave, se concluye que **la tienda que debería vender el Sr. Juan es la _Tienda 3_**.\n"
      ],
      "metadata": {
        "id": "oBVI398GnluD"
      }
    },
    {
      "cell_type": "markdown",
      "source": [
        "### Justificación"
      ],
      "metadata": {
        "id": "qk_kk-XunoKa"
      }
    },
    {
      "cell_type": "markdown",
      "source": [
        "- Es una de las **que menos factura**.\n",
        "- Tiene la **calificación promedio más baja**, lo que indica menor satisfacción del cliente.\n",
        "- Presenta **productos con baja rotación**.\n",
        "- Tiene uno de los **costos de envío más altos**, afectando el margen de ganancia.\n",
        "\n",
        "En contraste, Tienda 1 y Tienda 4 se posicionan como operaciones más sólidas, con buenos ingresos, calificaciones altas y categorías bien posicionadas.\n",
        "\n",
        "Por lo tanto, vender **Tienda 3** permitirá al Sr. Juan deshacerse del punto de venta menos rentable y menos valorado, liberando recursos para invertir en un emprendimiento más prometedor."
      ],
      "metadata": {
        "id": "R0KMD_kRnstj"
      }
    }
  ]
}